{
 "cells": [
  {
   "cell_type": "markdown",
   "id": "e7a7a51c-e8bf-44a2-9341-03e300ae7765",
   "metadata": {},
   "source": [
    "# Data Science Tools and Ecosystem"
   ]
  },
  {
   "cell_type": "markdown",
   "id": "9e3e8adc-94c7-40ff-942f-a0fa53052336",
   "metadata": {},
   "source": [
    "In this notebook, we will take a general look at the tools of data science and ecosystem."
   ]
  },
  {
   "cell_type": "markdown",
   "id": "09ebb706-a14f-4289-9cdc-92e54d7cf065",
   "metadata": {},
   "source": [
    "Some of the popular languages that Data Science use are:\n",
    "1. Python\n",
    "2. SQL\n",
    "3. R"
   ]
  },
  {
   "cell_type": "markdown",
   "id": "47caca22-1a13-4749-8a31-4470f9d0c391",
   "metadata": {},
   "source": [
    "Some of the most used libraries in data science are:\n",
    " - Pandas\n",
    " - Numpy\n",
    " - Matplotlib\n",
    " - Seaborn\n",
    " - Keras"
   ]
  },
  {
   "cell_type": "markdown",
   "id": "b63c58cd-1ff4-4775-a819-ff50af52a7b0",
   "metadata": {
    "tags": []
   },
   "source": [
    "\n",
    "| Data Science Tools |\n",
    "| --- |\n",
    "| Apache Zeppelin |\n",
    "| RStudio |\n",
    "| Jupyter Lab |\n",
    "| Spyder |"
   ]
  },
  {
   "cell_type": "markdown",
   "id": "081e3b8b-f35c-4b2b-b0f2-0da31d843ff0",
   "metadata": {},
   "source": [
    "### Below are a few examples of evaluating arithmetic expressions in Python: "
   ]
  },
  {
   "cell_type": "code",
   "execution_count": 21,
   "id": "62f14b9f-621b-4478-a0b9-5afab30ab333",
   "metadata": {
    "tags": []
   },
   "outputs": [
    {
     "data": {
      "text/plain": [
       "17"
      ]
     },
     "execution_count": 21,
     "metadata": {},
     "output_type": "execute_result"
    }
   ],
   "source": [
    "#This is a simple arithmetic expression to multiply then add integers.\n",
    "(3 * 4) + 5"
   ]
  },
  {
   "cell_type": "code",
   "execution_count": 22,
   "id": "d47aaa57-6d7e-4fbc-ab93-24bc675b7c16",
   "metadata": {
    "tags": []
   },
   "outputs": [
    {
     "name": "stdout",
     "output_type": "stream",
     "text": [
      "3.3333333333333335\n"
     ]
    }
   ],
   "source": [
    "# This will convert 200 minutes to hours by diving by 60\n",
    "Hours = 200 / 60\n",
    "print(Hours)"
   ]
  },
  {
   "cell_type": "markdown",
   "id": "c3cff2cb-d9a6-4969-8120-7d2d775bb9e4",
   "metadata": {},
   "source": [
    "**Objectives:**\n",
    "\n",
    " - Data Science Tools\n",
    " - Languages of Data Science\n",
    " - Libraries\n",
    " - APIs\n",
    " - RStudio"
   ]
  },
  {
   "cell_type": "markdown",
   "id": "46ab029a-6bf9-4ed5-9694-70361c3cbe44",
   "metadata": {},
   "source": [
    "## Author\n",
    "Adosedeel Herrera Osorio"
   ]
  },
  {
   "cell_type": "code",
   "execution_count": null,
   "id": "923be5d0-54e8-4c30-84fe-5838e2a778f6",
   "metadata": {},
   "outputs": [],
   "source": []
  }
 ],
 "metadata": {
  "kernelspec": {
   "display_name": "Python",
   "language": "python",
   "name": "conda-env-python-py"
  },
  "language_info": {
   "codemirror_mode": {
    "name": "ipython",
    "version": 3
   },
   "file_extension": ".py",
   "mimetype": "text/x-python",
   "name": "python",
   "nbconvert_exporter": "python",
   "pygments_lexer": "ipython3",
   "version": "3.7.12"
  }
 },
 "nbformat": 4,
 "nbformat_minor": 5
}
